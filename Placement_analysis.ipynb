{
  "cells": [
    {
      "cell_type": "code",
      "execution_count": null,
      "metadata": {
        "colab": {
          "base_uri": "https://localhost:8080/"
        },
        "id": "vHb_A01ONc1P",
        "outputId": "b550150d-86d0-4656-81d0-ea07437d378a"
      },
      "outputs": [
        {
          "output_type": "stream",
          "name": "stdout",
          "text": [
            "Mounted at /content/drive\n"
          ]
        }
      ],
      "source": [
        "from google.colab import drive\n",
        "drive.mount('/content/drive')"
      ]
    },
    {
      "cell_type": "markdown",
      "metadata": {
        "id": "bXsA56gHuO1u"
      },
      "source": [
        "**IMPORTING LIBRARIES**"
      ]
    },
    {
      "cell_type": "code",
      "execution_count": null,
      "metadata": {
        "colab": {
          "background_save": true
        },
        "id": "dQqq0XtfoVR6"
      },
      "outputs": [],
      "source": [
        "#importing libraries\n",
        "import numpy as np\n",
        "import pandas as pd\n",
        "import matplotlib.pyplot as plt\n",
        "import seaborn as sns\n",
        "import matplotlib.cm as cm\n",
        "\n",
        "import sklearn\n",
        "from sklearn.model_selection import train_test_split\n",
        "from sklearn.linear_model import LogisticRegression\n",
        "from sklearn.metrics import accuracy_score,confusion_matrix,classification_report\n",
        "from sklearn.ensemble import RandomForestClassifier\n",
        "\n",
        "#load the dataset\n",
        "df=pd.read_csv(\"/content/drive/MyDrive/Placement data analysis project dataset/Placement_Data_Full_Class.csv\")\n",
        "df.head()"
      ]
    },
    {
      "cell_type": "markdown",
      "metadata": {
        "id": "JdYNuy12qd-y"
      },
      "source": [
        "\n",
        "\n",
        "sscb- Secondary School Certificate Board-> Which is lower secondary school(1st-10th Grade)\n",
        "\n",
        "hscb-Higher Secondary Certificate Board-> Which is higher secondary school(11th and 12th Grade)\n",
        "\n",
        "sl_no : serial number\n",
        "\n",
        "gender : [male,female]\n",
        "\n",
        "ssc_p : means--> 10th class percentage\n",
        "\n",
        "ssc_b : which board to passed out 10th.\n",
        "\n",
        "hsc_p : means--> 12th class percentage\n",
        "\n",
        "hsc_b : which board to passed out 12th.\n",
        "\n",
        "hsc_s : which stream he choose (science,commerce,arts)\n",
        "\n",
        "degree_p : means--> Bachelor degree percentage\n",
        "\n",
        "degree_t : which strem choose for bachelor\n",
        "\n",
        "workex : It has a work experience or not.\n",
        "\n",
        "etest_p : entrance test percentage\n",
        "\n",
        "specialisation : Master degree in Mkt&HR or Mkt&Fin\n",
        "\n",
        "mba_p : means--> Master degree percentage\n",
        "\n",
        "status : He/She got placed or not in campus placement.\n",
        "\n",
        "salary : placement packages."
      ]
    },
    {
      "cell_type": "code",
      "execution_count": null,
      "metadata": {
        "colab": {
          "background_save": true
        },
        "id": "MmImZ2tipkq2"
      },
      "outputs": [],
      "source": [
        "#set the sl_no as a row no\n",
        "df.set_index('sl_no',inplace=True)\n",
        "df.head()"
      ]
    },
    {
      "cell_type": "code",
      "execution_count": null,
      "metadata": {
        "colab": {
          "background_save": true
        },
        "id": "RA6udW9gq81C"
      },
      "outputs": [],
      "source": [
        "#check datatype or null\n",
        "#prints information about dataframe\n",
        "df.info()"
      ]
    },
    {
      "cell_type": "code",
      "execution_count": null,
      "metadata": {
        "colab": {
          "background_save": true
        },
        "id": "XOOXU-NYw6Jy"
      },
      "outputs": [],
      "source": [
        "df.describe()"
      ]
    },
    {
      "cell_type": "code",
      "execution_count": null,
      "metadata": {
        "colab": {
          "background_save": true
        },
        "id": "6Dw6rvnyw82u"
      },
      "outputs": [],
      "source": [
        "print(df.shape[0]) # nummber of rows\n",
        "print(df.shape[1]) # total number of columns"
      ]
    },
    {
      "cell_type": "code",
      "execution_count": null,
      "metadata": {
        "colab": {
          "background_save": true
        },
        "id": "JRrqnXSGxoEm"
      },
      "outputs": [],
      "source": [
        "df.isnull().sum()"
      ]
    },
    {
      "cell_type": "code",
      "execution_count": null,
      "metadata": {
        "colab": {
          "background_save": true
        },
        "id": "rHsUMdUmwzoZ"
      },
      "outputs": [],
      "source": [
        "# Replace the value with 0 and 1\n",
        "df[\"gender\"].replace([\"F\",\"M\"],[0,1],inplace=True)\n",
        "df[\"status\"].replace(['Placed',\"Not Placed\"],[1,0],inplace=True)\n",
        "\n",
        "df['workex'].replace(to_replace =\"Yes\", value =1,inplace=True)\n",
        "df['workex'].replace(to_replace =\"No\", value =0,inplace=True)\n",
        "df.head()"
      ]
    },
    {
      "cell_type": "code",
      "execution_count": null,
      "metadata": {
        "colab": {
          "background_save": true
        },
        "id": "s9iKIqMWxHMi"
      },
      "outputs": [],
      "source": [
        "# percentage of male or female\n",
        "fig = plt.figure()\n",
        "ax = fig.add_axes([0,0,1,1])\n",
        "ax.axis('equal')\n",
        "gender = ['Male','Female']\n",
        "students = [139,76]\n",
        "ax.pie(students, labels = gender, autopct='%1.2f%%', colors = [\"#151436\", \"#b0689e\"])\n",
        "plt.title('Pie chart ')\n",
        "plt.show()"
      ]
    },
    {
      "cell_type": "code",
      "execution_count": null,
      "metadata": {
        "colab": {
          "background_save": true
        },
        "id": "D0w2WWNXxT80"
      },
      "outputs": [],
      "source": [
        "#show the no. of student how placed or not placed.\n",
        "plt.bar([0],height=len(df[df[\"status\"]==0]))\n",
        "plt.bar([1],height=len(df[df[\"status\"]==1]))\n",
        "\n",
        "plt.xlabel(\"Status\")\n",
        "plt.ylabel(\"Count\")\n",
        "\n",
        "plt.xticks(np.arange(2), ('Not placed', 'Placed'))\n",
        "plt.title(\"No of Student placed\\n\")\n",
        "plt.show()"
      ]
    },
    {
      "cell_type": "code",
      "execution_count": null,
      "metadata": {
        "colab": {
          "background_save": true
        },
        "id": "0nSdCSBww-WS"
      },
      "outputs": [],
      "source": [
        "#create a new dataframe of only numerical values\n",
        "numerical_df=df.select_dtypes([\"float64\",\"int64\"])"
      ]
    },
    {
      "cell_type": "code",
      "execution_count": null,
      "metadata": {
        "colab": {
          "background_save": true
        },
        "id": "_1f6O-q6xdq4"
      },
      "outputs": [],
      "source": [
        "#average percentage of all education qualification\n",
        "values = [(numerical_df['ssc_p'].mean()),(numerical_df['hsc_p'].mean()),(numerical_df['mba_p'].mean()),(numerical_df['degree_p'].mean())]\n",
        "print('scc_p mean = ' +str(numerical_df['ssc_p'].mean()))\n",
        "print('hsc_p mean = ' +str(numerical_df['hsc_p'].mean()))\n",
        "print('mba_p mean = ' +str(numerical_df['mba_p'].mean()))\n",
        "print('degree_p mean = ' +str(numerical_df['degree_p'].mean()))\n",
        "fig = plt.figure()\n",
        "ax = fig.add_axes([0,0,1,1])\n",
        "names = ['ssc_p','hsc_p','mba_p','degree_p']\n",
        "ax.set_ylabel('Average percentages')\n",
        "ax.set_title('Average Percentage')\n",
        "ax.bar(names,values,width = 0.5,color=[\"#2ca02c\"])\n",
        "plt.show()"
      ]
    },
    {
      "cell_type": "markdown",
      "metadata": {
        "id": "l3Z_10jIZ9M4"
      },
      "source": [
        "**PLACEMENT PREDICTION**"
      ]
    },
    {
      "cell_type": "code",
      "execution_count": null,
      "metadata": {
        "colab": {
          "background_save": true
        },
        "id": "i-BXi6E8Bv_r"
      },
      "outputs": [],
      "source": [
        "x_train , x_test , y_train , y_test = train_test_split(df[['ssc_p','hsc_p','degree_p','workex','etest_p','mba_p']],df.status,test_size=0.2)"
      ]
    },
    {
      "cell_type": "code",
      "execution_count": null,
      "metadata": {
        "colab": {
          "background_save": true
        },
        "id": "SF78cZ28B6u0"
      },
      "outputs": [],
      "source": [
        "# Feature Scaling\n",
        "from sklearn.preprocessing import StandardScaler\n",
        "sc = StandardScaler()\n",
        "x_train = sc.fit_transform(x_train)              # determine parameters and transform dataset\n",
        "x_test = sc.transform(x_test)                    # transform data for further analysis\n"
      ]
    },
    {
      "cell_type": "markdown",
      "metadata": {
        "id": "7qsNvixTbUHP"
      },
      "source": [
        "**RANDOM FOREST CLASSIFICATION**"
      ]
    },
    {
      "cell_type": "code",
      "execution_count": null,
      "metadata": {
        "colab": {
          "background_save": true
        },
        "id": "hAaIdERaek5i"
      },
      "outputs": [],
      "source": [
        "# Fitting Random Forest Classification to the Training set\n",
        "accuracy_scores = np.zeros(4)\n",
        "def rfc_model(x_train,y_train,x_test,y_test):\n",
        "\n",
        "    '''\n",
        "    Input\n",
        "      x_train :training featue\n",
        "      x_test  :test featue\n",
        "      y_train :training output data\n",
        "      y_test  :testing  output data\n",
        "\n",
        "    Output :\n",
        "     accuracy_score       :\n",
        "     classification_report:\n",
        "    '''\n",
        "    print(\"using Random Forest Classification method\")\n",
        "    model=RandomForestClassifier(n_estimators =14, criterion = 'entropy', random_state = 41)\n",
        "    model.fit(x_train,y_train)\n",
        "    prediction=model.predict(x_test)\n",
        "    print('Accuracy {0:.2f}%'.format((accuracy_score(y_test,prediction)*100)))\n",
        "    print(classification_report(y_test,prediction))\n",
        "    accuracy_scores[0] = accuracy_score(y_test, prediction)*100\n",
        "rfc_model(x_train,y_train,x_test,y_test)\n",
        "print('Randon Forest Classifier accuracy: {}%'.format(accuracy_scores[0]))"
      ]
    },
    {
      "cell_type": "markdown",
      "metadata": {
        "id": "hJAiQUvxexY0"
      },
      "source": [
        "**K NEAREST NEIGHBOUR**"
      ]
    },
    {
      "cell_type": "code",
      "execution_count": null,
      "metadata": {
        "colab": {
          "background_save": true
        },
        "id": "FXqqFgXYeWVT"
      },
      "outputs": [],
      "source": [
        "from sklearn.model_selection import RandomizedSearchCV\n",
        "from sklearn.metrics import classification_report,confusion_matrix,accuracy_score\n",
        "result_1 = pd.DataFrame(columns=['Model','Accuracy Score'])\n",
        "#K Nearest Neighbours Classifier\n",
        "from sklearn.neighbors import KNeighborsClassifier\n",
        "knn = KNeighborsClassifier()\n",
        "weights = ['uniform','distance']\n",
        "leaf_size = list(range(1,50))\n",
        "n_neighbors = list(range(1,30))\n",
        "metric = ['minkowski','euclidean','manhattan']\n",
        "algorithm=['auto']\n",
        "p=[1,2]\n",
        "knn_hyperparameters = dict(n_neighbors=n_neighbors, weights=weights, algorithm=algorithm, leaf_size=leaf_size, p=p, metric=metric)\n",
        "KNN_gridSearch = RandomizedSearchCV(knn,param_distributions=knn_hyperparameters,cv=3,verbose=1)\n",
        "KNN_gridSearch.fit(x_train,y_train)\n",
        "knn_y_pred = KNN_gridSearch.predict(x_test)\n",
        "print('KNN Classifier')\n",
        "print('\\n Confusion Matrix')\n",
        "print(confusion_matrix(y_test,knn_y_pred))\n",
        "print('\\n Classification Report')\n",
        "print(classification_report(y_test,knn_y_pred))\n",
        "knn_AS = accuracy_score(y_test,knn_y_pred)\n",
        "\n",
        "accuracy_scores[1] = accuracy_score(y_test,knn_y_pred)*100\n",
        "print('K Nearest Neighbors Classifier accuracy: {}%'.format(accuracy_scores[1]))"
      ]
    },
    {
      "cell_type": "markdown",
      "metadata": {
        "id": "Orkr6x5CwB7r"
      },
      "source": [
        "**SVM**"
      ]
    },
    {
      "cell_type": "code",
      "execution_count": null,
      "metadata": {
        "colab": {
          "background_save": true
        },
        "id": "PavaffzAvio-"
      },
      "outputs": [],
      "source": [
        "from sklearn.svm import SVC\n",
        "svc = SVC()\n",
        "C = [0.1, 1, 10, 100, 1000]\n",
        "kernel = ['rbf','poly','sigmoid','linear']\n",
        "degree = list(range(1,5,1))\n",
        "gamma = [1, 0.1, 0.01, 0.001, 0.0001]\n",
        "svc_hyperparameters = dict(C=C, kernel=kernel, degree=degree, gamma=gamma)\n",
        "svc_gridSearch = RandomizedSearchCV(svc,param_distributions=svc_hyperparameters,cv=3,verbose=1)\n",
        "svc_gridSearch.fit(x_train,y_train)  # grid search simplest algo for hyperparameter tuning\n",
        "svc_y_pred = svc_gridSearch.predict(x_test)\n",
        "print('Support Vector Machine (SVC)')\n",
        "print('\\n Confusion Matrix')\n",
        "print(confusion_matrix(y_test,svc_y_pred))\n",
        "print('\\n Classification Report')\n",
        "print(classification_report(y_test,svc_y_pred))\n",
        "svc_AS = accuracy_score(y_test,svc_y_pred)\n",
        "accuracy_scores[2] = accuracy_score(y_test,svc_y_pred)*100\n",
        "print('SVM Classifier accuracy: {}%'.format(accuracy_scores[2]))"
      ]
    },
    {
      "cell_type": "markdown",
      "metadata": {
        "id": "UnjXFQBbwPrS"
      },
      "source": [
        "**DECISION TREE**"
      ]
    },
    {
      "cell_type": "code",
      "execution_count": null,
      "metadata": {
        "colab": {
          "background_save": true
        },
        "id": "O2tmkyb6xHHZ"
      },
      "outputs": [],
      "source": [
        "from sklearn.tree import DecisionTreeClassifier\n",
        "dtc = DecisionTreeClassifier()\n",
        "criterion=['gini','entropy']\n",
        "splitter=['best', 'random']\n",
        "max_depth = list(range(10,100,10))\n",
        "min_samples_split = [2, 5, 10]\n",
        "max_features = ['auto', 'sqrt','log2',None]\n",
        "max_depth = list(range(10,100,10))\n",
        "min_samples_leaf = [1, 2, 4]\n",
        "dtc_hyperparameters = dict(criterion=criterion, splitter=splitter, max_depth=max_depth, min_samples_split=min_samples_split, max_features=max_features, min_samples_leaf=min_samples_leaf)\n",
        "dtc_gridSearch = RandomizedSearchCV(dtc,param_distributions=dtc_hyperparameters,cv=3,verbose=1)\n",
        "dtc_gridSearch.fit(x_train,y_train)\n",
        "dtc_y_pred = dtc_gridSearch.predict(x_test)\n",
        "print('Decision Tree Classifier')\n",
        "print('\\n Confusion Matrix')\n",
        "print(confusion_matrix(y_test,dtc_y_pred))\n",
        "print('\\n Classification Report')\n",
        "print(classification_report(y_test,dtc_y_pred))\n",
        "dtc_AS = accuracy_score(y_test,dtc_y_pred)\n",
        "accuracy_scores[3] = accuracy_score(y_test,dtc_y_pred)*100\n",
        "print('decision tree Classifier accuracy: {}%'.format(accuracy_scores[3]))\n"
      ]
    }
  ],
  "metadata": {
    "colab": {
      "provenance": []
    },
    "kernelspec": {
      "display_name": "Python 3",
      "name": "python3"
    },
    "language_info": {
      "name": "python"
    }
  },
  "nbformat": 4,
  "nbformat_minor": 0
}